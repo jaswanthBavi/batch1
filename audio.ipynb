{
  "cells": [
    {
      "cell_type": "markdown",
      "metadata": {
        "id": "view-in-github",
        "colab_type": "text"
      },
      "source": [
        "<a href=\"https://colab.research.google.com/github/jaswanthBavi/batch1/blob/main/audio.ipynb\" target=\"_parent\"><img src=\"https://colab.research.google.com/assets/colab-badge.svg\" alt=\"Open In Colab\"/></a>"
      ]
    },
    {
      "cell_type": "code",
      "execution_count": null,
      "metadata": {
        "colab": {
          "base_uri": "https://localhost:8080/",
          "height": 106
        },
        "id": "OLoaPoWXLoOs",
        "outputId": "45b42150-1199-492c-b395-2e71e3dd3dca"
      },
      "outputs": [
        {
          "output_type": "error",
          "ename": "SyntaxError",
          "evalue": "invalid syntax (<ipython-input-18-7ef0a8087f9d>, line 9)",
          "traceback": [
            "\u001b[0;36m  File \u001b[0;32m\"<ipython-input-18-7ef0a8087f9d>\"\u001b[0;36m, line \u001b[0;32m9\u001b[0m\n\u001b[0;31m    def transcribe_audio(Sample.mp3):\u001b[0m\n\u001b[0m                               ^\u001b[0m\n\u001b[0;31mSyntaxError\u001b[0m\u001b[0;31m:\u001b[0m invalid syntax\n"
          ]
        }
      ],
      "source": []
    },
    {
      "cell_type": "code",
      "source": [
        "!pip install pydub\n",
        "import speech_recognition as sr\n",
        "from pydub import AudioSegment\n",
        "\n",
        "# Initialize recognizer\n",
        "r = sr.Recognizer()\n",
        "\n",
        "def transcribe_audio(audio_file):\n",
        "    \"\"\"Transcribes audio from an MP3 file.\n",
        "\n",
        "    Args:\n",
        "        audio_file: Path to the MP3 audio file.\n",
        "\n",
        "    Returns:\n",
        "        The transcribed text, or an error message if transcription fails.\n",
        "    \"\"\"\n",
        "    try:\n",
        "        # 1. Convert MP3 to WAV (if needed)\n",
        "        sound = AudioSegment.from_mp3(audio_file)\n",
        "        sound.export(\"temp_audio.wav\", format=\"wav\")\n",
        "\n",
        "        # 2. Transcribe using SpeechRecognition\n",
        "        with sr.AudioFile(\"temp_audio.wav\") as source:\n",
        "            audio = r.record(source)\n",
        "\n",
        "        text = r.recognize_google(audio)\n",
        "        return text\n",
        "\n",
        "    except sr.UnknownValueError:\n",
        "        return \"Google Speech Recognition could not understand audio\"\n",
        "    except sr.RequestError as e:\n",
        "        return f\"Could not request results from Google Speech Recognition service; {e}\"\n",
        "    except FileNotFoundError:\n",
        "        return f\"Audio file not found at: {audio_file}\"\n",
        "    except Exception as e:\n",
        "        return f\"An error occurred: {e}\"\n",
        "\n",
        "\n",
        "# Example usage\n",
        "audio_file_path = '/content/hello-91045.mp3'  # Replace with the path to your MP3 file\n",
        "transcription = transcribe_audio(audio_file_path)\n",
        "print(\"Transcription:\", transcription)"
      ],
      "metadata": {
        "colab": {
          "base_uri": "https://localhost:8080/"
        },
        "id": "bjhGZuMjLUNB",
        "outputId": "8270e6b0-8b36-47b0-e517-def58380eb25"
      },
      "execution_count": 22,
      "outputs": [
        {
          "output_type": "stream",
          "name": "stdout",
          "text": [
            "Requirement already satisfied: pydub in /usr/local/lib/python3.11/dist-packages (0.25.1)\n",
            "Transcription: hello\n"
          ]
        }
      ]
    }
  ],
  "metadata": {
    "colab": {
      "provenance": [],
      "authorship_tag": "ABX9TyMn8iTVco5JnpkkTpL7TNrB",
      "include_colab_link": true
    },
    "kernelspec": {
      "display_name": "Python 3",
      "name": "python3"
    },
    "language_info": {
      "name": "python"
    }
  },
  "nbformat": 4,
  "nbformat_minor": 0
}